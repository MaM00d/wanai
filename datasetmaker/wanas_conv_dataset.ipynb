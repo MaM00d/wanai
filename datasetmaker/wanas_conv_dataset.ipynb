{
  "cells": [
    {
      "cell_type": "code",
      "metadata": {
        "jukit_cell_id": "F3sKrDEpmW"
      },
      "source": [
        "# !pip3 install pandas"
      ],
      "outputs": [],
      "execution_count": null
    },
    {
      "cell_type": "code",
      "metadata": {
        "jukit_cell_id": "1z0xJ7GxbE"
      },
      "source": [
        "import pandas as pd"
      ],
      "outputs": [],
      "execution_count": null
    },
    {
      "cell_type": "code",
      "metadata": {
        "jukit_cell_id": "7seqg6WOzP"
      },
      "source": [
        "with open('mssgg.txt', 'r',encoding=\"utf-8\") as f:\n",
        "   convs = f.read().split('\\n\\n')"
      ],
      "outputs": [],
      "execution_count": null
    },
    {
      "cell_type": "code",
      "metadata": {
        "jukit_cell_id": "iRKhghIIYa"
      },
      "source": [
        "z=0\n",
        "lines=[]\n",
        "for conv in convs:\n",
        "    splits = conv.split('\\n')\n",
        "    for l in splits: \n",
        "        x=[]\n",
        "        x.append(z)\n",
        "        lin=[]\n",
        "        lin = l.split(':')\n",
        "        x.append(lin[0].strip())\n",
        "        x.append(lin[1].strip())\n",
        "        lines.append(x)\n",
        "   \n",
        "    z=z+1"
      ],
      "outputs": [],
      "execution_count": null
    },
    {
      "cell_type": "code",
      "metadata": {
        "jukit_cell_id": "BbyoD39vKx"
      },
      "source": [
        "df = pd.DataFrame(lines,columns=['convid','role','context'])"
      ],
      "outputs": [],
      "execution_count": null
    },
    {
      "cell_type": "code",
      "metadata": {
        "jukit_cell_id": "MZn9USgjea"
      },
      "source": [
        "final = []\n",
        "history = \"\"\n",
        "\n",
        "for rownum in df.index:\n",
        "    currrow = df.loc[rownum]\n",
        "    history = history+\" ## \" +currrow['role']+\" : \"+currrow['context']\n",
        "    if rownum == 0:\n",
        "              #first chat\n",
        "        if currrow['role'] == \"\u062f\u0643\u062a\u0648\u0631\":\n",
        "            \n",
        "            final.append([history,\"\u0628\u062f\u0627\u064a\u0629\",currrow['context']])\n",
        "            \n",
        "            \n",
        "\n",
        "    elif rownum == (len(df.index)-1):\n",
        "         #last Chat\n",
        "        if currrow['role'] == \"\u062f\u0643\u062a\u0648\u0631\":\n",
        "            final.append([history,currrow['context'],prevrow['context']])\n",
        "        elif currrow['role'] == \"\u0645\u0631\u064a\u0636\":\n",
        "            final.append([history,currrow['context'],\"\u0627\u0642\u0641\u0627\u0644\"])\n",
        "    else:\n",
        "        prevrow =df.iloc[rownum-1]\n",
        "        nextrow =df.iloc[rownum+1]\n",
        "        if currrow['convid'] != prevrow['convid']:\n",
        "            #first chat\n",
        "         \n",
        "            if currrow['role'] == \"\u062f\u0643\u062a\u0648\u0631\":\n",
        "                final.append([history,\"\u0628\u062f\u0627\u064a\u0629\",currrow['context']])\n",
        "                # print(\"\\n\")\n",
        "                # print(\"\\n\")\n",
        "                # print(currrow['convid'])\n",
        "                # print(\"\\n\")\n",
        "                # print(prevrow['convid'])\n",
        "                # print(\"\\n\")\n",
        "                # print(\"\\n\")\n",
        "\n",
        "        elif currrow['convid'] !=nextrow['convid']:\n",
        "            #last Chat\n",
        "            if currrow['role'] == \"\u062f\u0643\u062a\u0648\u0631\":\n",
        "                final.append([history,currrow['context'],prevrow['context']])\n",
        "            elif currrow['role'] == \"\u0645\u0631\u064a\u0636\":\n",
        "                final.append([history,currrow['context'],\"\u0627\u0642\u0641\u0627\u0644\"])\n",
        "            history=\"\"\n",
        "        else:\n",
        "            #normal chat between\n",
        "            if currrow['role'] == \"\u0645\u0631\u064a\u0636\":\n",
        "                \n",
        "                final.append([history,currrow['context'],prevrow['context']])\n",
        "    \n",
        "\n",
        "           \n",
        "dff = pd.DataFrame(final,columns=['history','patient','doctor'])\n",
        "    "
      ],
      "outputs": [],
      "execution_count": null
    },
    {
      "cell_type": "code",
      "metadata": {
        "jukit_cell_id": "v91AEQyWd6"
      },
      "source": [
        "dff.to_csv('wannas_final.csv', index=False)"
      ],
      "outputs": [],
      "execution_count": null
    }
  ],
  "metadata": {
    "anaconda-cloud": {},
    "kernelspec": {
      "display_name": "python",
      "language": "python",
      "name": "python3"
    }
  },
  "nbformat": 4,
  "nbformat_minor": 4
}